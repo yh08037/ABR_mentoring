{
  "nbformat": 4,
  "nbformat_minor": 0,
  "metadata": {
    "colab": {
      "name": "ABR_mentoring_4.ipynb",
      "provenance": [],
      "authorship_tag": "ABX9TyMjc/FTaZD3UpI1ZWcsG02l",
      "include_colab_link": true
    },
    "kernelspec": {
      "name": "python3",
      "display_name": "Python 3"
    }
  },
  "cells": [
    {
      "cell_type": "markdown",
      "metadata": {
        "id": "view-in-github",
        "colab_type": "text"
      },
      "source": [
        "<a href=\"https://colab.research.google.com/github/yh08037/ABR_mentoring/blob/master/ABR_mentoring_4.ipynb\" target=\"_parent\"><img src=\"https://colab.research.google.com/assets/colab-badge.svg\" alt=\"Open In Colab\"/></a>"
      ]
    },
    {
      "cell_type": "markdown",
      "metadata": {
        "id": "KGrxNiSHeCHj",
        "colab_type": "text"
      },
      "source": [
        "# ABR 멘토링 4주차\n",
        "## Multilayer Perceptron\n",
        "\n",
        "### 개념 정리\n",
        "1. Train / Test split\n",
        "\n",
        "    학습한 모델을 평가할 때는 학습에 사용하지 않은 데이터로 평가해야한다!\n",
        "    => 데이터를 두가지로 나눈다\n",
        "\n",
        "2. 모델의 복잡도\n",
        "\n",
        "    모델의 표현력. 문제의 복잡도에 맞는 복잡도를 가지는 모델을 선택하는 것이 중요\n",
        "\n",
        "3. 과소 적합 / 과적합\n",
        "\n",
        "    과소 적합 : 문제 복잡도 > 모델 복잡도\n",
        "\n",
        "    과적합 : 문제 복잡도 < 모델 복잡도. 데이터가 충분하지 않아서 나타남\n",
        "\n",
        "4. 인공 신경망\n",
        "    \n",
        "    사람의 신경 구조를 본따서 수학적으로 모델링한것\n",
        "\n",
        "5. 퍼셉트론\n",
        "\n",
        "    인공신경망의 기본단위, 뉴런을 수학적으로 모델링한것\n",
        "\n",
        "6. 활성화 함수\n",
        "    \n",
        "    뉴런의 활성화 동작을 수학적으로 모델링한것\n",
        "\n",
        "7. 다층 퍼셉트론 (MLP)\n",
        "\n",
        "    퍼셉트론을 여러개 쌓은 모델\n",
        "\n",
        "8. 순전파 / 역전파\n",
        "\n",
        "    순전파 : 파라미터 theta -> 오차함수 E(theta)\n",
        "\n",
        "    역전파 : 오차함수 E(theta) -> 파라미터 theta 수정"
      ]
    },
    {
      "cell_type": "code",
      "metadata": {
        "id": "FnMziCNXd_Fg",
        "colab_type": "code",
        "colab": {}
      },
      "source": [
        "import tensorflow as tf"
      ],
      "execution_count": 0,
      "outputs": []
    },
    {
      "cell_type": "code",
      "metadata": {
        "id": "VqUmGAK3yYmR",
        "colab_type": "code",
        "colab": {
          "base_uri": "https://localhost:8080/",
          "height": 35
        },
        "outputId": "ab9b1a41-9e9f-4c0f-84e3-f81967b9a91e"
      },
      "source": [
        "tf.__version__"
      ],
      "execution_count": 42,
      "outputs": [
        {
          "output_type": "execute_result",
          "data": {
            "text/plain": [
              "'2.2.0'"
            ]
          },
          "metadata": {
            "tags": []
          },
          "execution_count": 42
        }
      ]
    },
    {
      "cell_type": "markdown",
      "metadata": {
        "id": "xw6uH-RQzjnN",
        "colab_type": "text"
      },
      "source": [
        "### 1. 데이터 읽어오기"
      ]
    },
    {
      "cell_type": "code",
      "metadata": {
        "id": "zD-j--FeydSh",
        "colab_type": "code",
        "colab": {}
      },
      "source": [
        "mnist = tf.keras.datasets.mnist"
      ],
      "execution_count": 0,
      "outputs": []
    },
    {
      "cell_type": "code",
      "metadata": {
        "id": "EdHMmjJ_ys9Z",
        "colab_type": "code",
        "colab": {}
      },
      "source": [
        "(x_train, y_train), (x_test, y_test) = mnist.load_data()"
      ],
      "execution_count": 0,
      "outputs": []
    },
    {
      "cell_type": "code",
      "metadata": {
        "id": "v7haGijUzRuK",
        "colab_type": "code",
        "colab": {
          "base_uri": "https://localhost:8080/",
          "height": 35
        },
        "outputId": "c6dfa05c-cc94-492c-9304-a771789be3a9"
      },
      "source": [
        "type(x_train)"
      ],
      "execution_count": 45,
      "outputs": [
        {
          "output_type": "execute_result",
          "data": {
            "text/plain": [
              "numpy.ndarray"
            ]
          },
          "metadata": {
            "tags": []
          },
          "execution_count": 45
        }
      ]
    },
    {
      "cell_type": "code",
      "metadata": {
        "id": "iam3VDi5zBBh",
        "colab_type": "code",
        "colab": {
          "base_uri": "https://localhost:8080/",
          "height": 35
        },
        "outputId": "4c41bcfe-5443-49e0-e90a-37485ec80571"
      },
      "source": [
        "x_train.shape"
      ],
      "execution_count": 46,
      "outputs": [
        {
          "output_type": "execute_result",
          "data": {
            "text/plain": [
              "(60000, 28, 28)"
            ]
          },
          "metadata": {
            "tags": []
          },
          "execution_count": 46
        }
      ]
    },
    {
      "cell_type": "code",
      "metadata": {
        "id": "31o_3JK5zQy7",
        "colab_type": "code",
        "colab": {
          "base_uri": "https://localhost:8080/",
          "height": 35
        },
        "outputId": "79838796-1db0-4b9a-c32b-dcb2afd52f33"
      },
      "source": [
        "x_test.shape"
      ],
      "execution_count": 47,
      "outputs": [
        {
          "output_type": "execute_result",
          "data": {
            "text/plain": [
              "(10000, 28, 28)"
            ]
          },
          "metadata": {
            "tags": []
          },
          "execution_count": 47
        }
      ]
    },
    {
      "cell_type": "markdown",
      "metadata": {
        "id": "oVA4lk5Dzl9Q",
        "colab_type": "text"
      },
      "source": [
        "### 2. 모델 정의하기"
      ]
    },
    {
      "cell_type": "code",
      "metadata": {
        "id": "1bPavxLE22rd",
        "colab_type": "code",
        "colab": {}
      },
      "source": [
        "# 0 1 2 3 4 5 6\n",
        "\n",
        "# 정답 5\n",
        "# 예측 2   7\n",
        "# SSE  9   4"
      ],
      "execution_count": 0,
      "outputs": []
    },
    {
      "cell_type": "code",
      "metadata": {
        "id": "Q54wr8SQzcMh",
        "colab_type": "code",
        "colab": {}
      },
      "source": [
        "# model = tf.keras.models.Sequential([\n",
        "#     tf.keras.layers.Flatten(input_shape=(28, 28)),\n",
        "#     tf.keras.layers.Dense(128, activation='relu'),\n",
        "#     tf.keras.layers.Dense(10, activation='softmax')\n",
        "# ])"
      ],
      "execution_count": 0,
      "outputs": []
    },
    {
      "cell_type": "code",
      "metadata": {
        "id": "tvAmvofJ4zd9",
        "colab_type": "code",
        "colab": {}
      },
      "source": [
        "from tensorflow.keras.models import Sequential\n",
        "from tensorflow.keras.layers import Flatten, Dense\n",
        "\n",
        "model = Sequential([\n",
        "    Flatten(input_shape=(28, 28)),\n",
        "    Dense(128, activation='relu'),\n",
        "    Dense(10, activation='softmax')\n",
        "])"
      ],
      "execution_count": 0,
      "outputs": []
    },
    {
      "cell_type": "code",
      "metadata": {
        "id": "rSfKH6qF148F",
        "colab_type": "code",
        "colab": {}
      },
      "source": [
        "# Optimizer : 최적화하는 방법 (ex 배치경사하강법, 확률적경사하강법, ...)\n",
        "# 오차함수 error = loss = cost\n",
        "# metrics : 평가에 사용할 수치 (ex 오차, 평균, 정확도, ...)\n",
        "model.compile(optimizer='adam', loss='sparse_categorical_crossentropy', metrics=['accuracy'])"
      ],
      "execution_count": 0,
      "outputs": []
    },
    {
      "cell_type": "markdown",
      "metadata": {
        "id": "b3cXx6pk4l6m",
        "colab_type": "text"
      },
      "source": [
        "### 3. 모델 학습하기"
      ]
    },
    {
      "cell_type": "code",
      "metadata": {
        "id": "3-9-WF7h3WZ2",
        "colab_type": "code",
        "colab": {
          "base_uri": "https://localhost:8080/",
          "height": 215
        },
        "outputId": "d9626e29-87c3-4012-8beb-c503f599ffb1"
      },
      "source": [
        "model.fit(x_train, y_train, epochs=5)"
      ],
      "execution_count": 52,
      "outputs": [
        {
          "output_type": "stream",
          "text": [
            "Epoch 1/5\n",
            "1875/1875 [==============================] - 3s 2ms/step - loss: 2.1114 - accuracy: 0.8544\n",
            "Epoch 2/5\n",
            "1875/1875 [==============================] - 5s 2ms/step - loss: 0.3814 - accuracy: 0.9089\n",
            "Epoch 3/5\n",
            "1875/1875 [==============================] - 5s 3ms/step - loss: 0.2848 - accuracy: 0.9284\n",
            "Epoch 4/5\n",
            "1875/1875 [==============================] - 4s 2ms/step - loss: 0.2442 - accuracy: 0.9389\n",
            "Epoch 5/5\n",
            "1875/1875 [==============================] - 3s 2ms/step - loss: 0.2201 - accuracy: 0.9455\n"
          ],
          "name": "stdout"
        },
        {
          "output_type": "execute_result",
          "data": {
            "text/plain": [
              "<tensorflow.python.keras.callbacks.History at 0x7fb712150080>"
            ]
          },
          "metadata": {
            "tags": []
          },
          "execution_count": 52
        }
      ]
    },
    {
      "cell_type": "markdown",
      "metadata": {
        "id": "2LG5LDil4oKu",
        "colab_type": "text"
      },
      "source": [
        "### 4. 모델 평가하기"
      ]
    },
    {
      "cell_type": "code",
      "metadata": {
        "id": "888pLlio3g2R",
        "colab_type": "code",
        "colab": {
          "base_uri": "https://localhost:8080/",
          "height": 53
        },
        "outputId": "1f548b1b-41b3-463f-f998-36192cc1d59d"
      },
      "source": [
        "model.evaluate(x_test, y_test)"
      ],
      "execution_count": 53,
      "outputs": [
        {
          "output_type": "stream",
          "text": [
            "313/313 [==============================] - 0s 1ms/step - loss: 0.2986 - accuracy: 0.9420\n"
          ],
          "name": "stdout"
        },
        {
          "output_type": "execute_result",
          "data": {
            "text/plain": [
              "[0.29857003688812256, 0.9419999718666077]"
            ]
          },
          "metadata": {
            "tags": []
          },
          "execution_count": 53
        }
      ]
    }
  ]
}