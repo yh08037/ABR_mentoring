{
  "nbformat": 4,
  "nbformat_minor": 0,
  "metadata": {
    "colab": {
      "name": "ABR_mentoring_3.ipynb",
      "provenance": [],
      "toc_visible": true,
      "authorship_tag": "ABX9TyPZNQ10L2r6/7Nj3/jr9QKO",
      "include_colab_link": true
    },
    "kernelspec": {
      "name": "python3",
      "display_name": "Python 3"
    }
  },
  "cells": [
    {
      "cell_type": "markdown",
      "metadata": {
        "id": "view-in-github",
        "colab_type": "text"
      },
      "source": [
        "<a href=\"https://colab.research.google.com/github/yh08037/ABR_mentoring/blob/master/ABR_mentoring_3.ipynb\" target=\"_parent\"><img src=\"https://colab.research.google.com/assets/colab-badge.svg\" alt=\"Open In Colab\"/></a>"
      ]
    },
    {
      "cell_type": "markdown",
      "metadata": {
        "id": "jHuvIZ0pIm-I",
        "colab_type": "text"
      },
      "source": [
        "\n",
        "# ABR 멘토링 3주차\n",
        "\n",
        "## 1. 데이터 읽어오기\n"
      ]
    },
    {
      "cell_type": "code",
      "metadata": {
        "id": "5gFzUocLIRMe",
        "colab_type": "code",
        "colab": {}
      },
      "source": [
        "import numpy as np\n",
        "import pandas as pd\n",
        "import matplotlib.pyplot as plt"
      ],
      "execution_count": 0,
      "outputs": []
    },
    {
      "cell_type": "code",
      "metadata": {
        "id": "Rjih7_ZJJAOC",
        "colab_type": "code",
        "colab": {}
      },
      "source": [
        "name_file = '/content/data_lab1.txt'\n",
        "columns = ['x', 'y']\n",
        "\n",
        "data_in = pd.read_csv(name_file, sep=' ', names=columns)"
      ],
      "execution_count": 0,
      "outputs": []
    },
    {
      "cell_type": "code",
      "metadata": {
        "id": "1H6XCloyJdn1",
        "colab_type": "code",
        "outputId": "5beb147b-004b-4d92-89bc-9932b560742d",
        "colab": {
          "base_uri": "https://localhost:8080/",
          "height": 35
        }
      },
      "source": [
        "type(data_in)"
      ],
      "execution_count": 3,
      "outputs": [
        {
          "output_type": "execute_result",
          "data": {
            "text/plain": [
              "pandas.core.frame.DataFrame"
            ]
          },
          "metadata": {
            "tags": []
          },
          "execution_count": 3
        }
      ]
    },
    {
      "cell_type": "code",
      "metadata": {
        "id": "-DxY4zlvJh9h",
        "colab_type": "code",
        "outputId": "ca023475-f571-42fe-9369-883f6fbe78b1",
        "colab": {
          "base_uri": "https://localhost:8080/",
          "height": 419
        }
      },
      "source": [
        "data_in"
      ],
      "execution_count": 4,
      "outputs": [
        {
          "output_type": "execute_result",
          "data": {
            "text/html": [
              "<div>\n",
              "<style scoped>\n",
              "    .dataframe tbody tr th:only-of-type {\n",
              "        vertical-align: middle;\n",
              "    }\n",
              "\n",
              "    .dataframe tbody tr th {\n",
              "        vertical-align: top;\n",
              "    }\n",
              "\n",
              "    .dataframe thead th {\n",
              "        text-align: right;\n",
              "    }\n",
              "</style>\n",
              "<table border=\"1\" class=\"dataframe\">\n",
              "  <thead>\n",
              "    <tr style=\"text-align: right;\">\n",
              "      <th></th>\n",
              "      <th>x</th>\n",
              "      <th>y</th>\n",
              "    </tr>\n",
              "  </thead>\n",
              "  <tbody>\n",
              "    <tr>\n",
              "      <th>0</th>\n",
              "      <td>0.000000</td>\n",
              "      <td>0.685785</td>\n",
              "    </tr>\n",
              "    <tr>\n",
              "      <th>1</th>\n",
              "      <td>0.020202</td>\n",
              "      <td>1.671735</td>\n",
              "    </tr>\n",
              "    <tr>\n",
              "      <th>2</th>\n",
              "      <td>0.040404</td>\n",
              "      <td>2.406276</td>\n",
              "    </tr>\n",
              "    <tr>\n",
              "      <th>3</th>\n",
              "      <td>0.060606</td>\n",
              "      <td>0.375167</td>\n",
              "    </tr>\n",
              "    <tr>\n",
              "      <th>4</th>\n",
              "      <td>0.080808</td>\n",
              "      <td>4.355949</td>\n",
              "    </tr>\n",
              "    <tr>\n",
              "      <th>...</th>\n",
              "      <td>...</td>\n",
              "      <td>...</td>\n",
              "    </tr>\n",
              "    <tr>\n",
              "      <th>95</th>\n",
              "      <td>1.919192</td>\n",
              "      <td>19.975148</td>\n",
              "    </tr>\n",
              "    <tr>\n",
              "      <th>96</th>\n",
              "      <td>1.939394</td>\n",
              "      <td>20.358975</td>\n",
              "    </tr>\n",
              "    <tr>\n",
              "      <th>97</th>\n",
              "      <td>1.959596</td>\n",
              "      <td>22.849086</td>\n",
              "    </tr>\n",
              "    <tr>\n",
              "      <th>98</th>\n",
              "      <td>1.979798</td>\n",
              "      <td>19.977494</td>\n",
              "    </tr>\n",
              "    <tr>\n",
              "      <th>99</th>\n",
              "      <td>2.000000</td>\n",
              "      <td>20.861562</td>\n",
              "    </tr>\n",
              "  </tbody>\n",
              "</table>\n",
              "<p>100 rows × 2 columns</p>\n",
              "</div>"
            ],
            "text/plain": [
              "           x          y\n",
              "0   0.000000   0.685785\n",
              "1   0.020202   1.671735\n",
              "2   0.040404   2.406276\n",
              "3   0.060606   0.375167\n",
              "4   0.080808   4.355949\n",
              "..       ...        ...\n",
              "95  1.919192  19.975148\n",
              "96  1.939394  20.358975\n",
              "97  1.959596  22.849086\n",
              "98  1.979798  19.977494\n",
              "99  2.000000  20.861562\n",
              "\n",
              "[100 rows x 2 columns]"
            ]
          },
          "metadata": {
            "tags": []
          },
          "execution_count": 4
        }
      ]
    },
    {
      "cell_type": "code",
      "metadata": {
        "id": "D4PebgBNJkQR",
        "colab_type": "code",
        "colab": {}
      },
      "source": [
        "x = np.asarray(data_in['x']).reshape((-1, 1))\n",
        "y = np.asarray(data_in['y']).reshape((-1, 1))"
      ],
      "execution_count": 0,
      "outputs": []
    },
    {
      "cell_type": "code",
      "metadata": {
        "id": "YOnEEClUJ9iy",
        "colab_type": "code",
        "outputId": "53632220-01ea-493e-c5e4-49cf652e320d",
        "colab": {
          "base_uri": "https://localhost:8080/",
          "height": 53
        }
      },
      "source": [
        "print('shape of x :', x.shape)\n",
        "print('shape of y :', y.shape)"
      ],
      "execution_count": 6,
      "outputs": [
        {
          "output_type": "stream",
          "text": [
            "shape of x : (100, 1)\n",
            "shape of y : (100, 1)\n"
          ],
          "name": "stdout"
        }
      ]
    },
    {
      "cell_type": "code",
      "metadata": {
        "id": "2Uo355BkKSS2",
        "colab_type": "code",
        "outputId": "bd6ab09e-6b9a-4032-e231-967b49ad9a18",
        "colab": {
          "base_uri": "https://localhost:8080/",
          "height": 265
        }
      },
      "source": [
        "plt.plot(x, y, 'r.')\n",
        "plt.show()"
      ],
      "execution_count": 7,
      "outputs": [
        {
          "output_type": "display_data",
          "data": {
            "image/png": "[encoded data removed]",
            "text/plain": [
              "<Figure size 432x288 with 1 Axes>"
            ]
          },
          "metadata": {
            "tags": [],
            "needs_background": "light"
          }
        }
      ]
    },
    {
      "cell_type": "code",
      "metadata": {
        "id": "LxQAWdMbLcnS",
        "colab_type": "code",
        "colab": {}
      },
      "source": [
        "a = np.array([[1, 2], [3, 4]])\n",
        "b = np.ones_like(a)\n",
        "c = np.zeros_like(a)"
      ],
      "execution_count": 0,
      "outputs": []
    },
    {
      "cell_type": "code",
      "metadata": {
        "id": "4c_o3UHKLot9",
        "colab_type": "code",
        "outputId": "695920b5-eec6-4579-f0ea-d24c886b6e35",
        "colab": {
          "base_uri": "https://localhost:8080/",
          "height": 53
        }
      },
      "source": [
        "a"
      ],
      "execution_count": 9,
      "outputs": [
        {
          "output_type": "execute_result",
          "data": {
            "text/plain": [
              "array([[1, 2],\n",
              "       [3, 4]])"
            ]
          },
          "metadata": {
            "tags": []
          },
          "execution_count": 9
        }
      ]
    },
    {
      "cell_type": "code",
      "metadata": {
        "id": "9uuMH6v1LlkH",
        "colab_type": "code",
        "outputId": "4dc5ac40-a72d-4498-faf0-6d0d30ff735c",
        "colab": {
          "base_uri": "https://localhost:8080/",
          "height": 53
        }
      },
      "source": [
        "b"
      ],
      "execution_count": 10,
      "outputs": [
        {
          "output_type": "execute_result",
          "data": {
            "text/plain": [
              "array([[1, 1],\n",
              "       [1, 1]])"
            ]
          },
          "metadata": {
            "tags": []
          },
          "execution_count": 10
        }
      ]
    },
    {
      "cell_type": "code",
      "metadata": {
        "id": "jnVIui-BLwgL",
        "colab_type": "code",
        "outputId": "8fdb97b5-f6e0-45aa-8eae-0e193a54b94e",
        "colab": {
          "base_uri": "https://localhost:8080/",
          "height": 53
        }
      },
      "source": [
        "c"
      ],
      "execution_count": 11,
      "outputs": [
        {
          "output_type": "execute_result",
          "data": {
            "text/plain": [
              "array([[0, 0],\n",
              "       [0, 0]])"
            ]
          },
          "metadata": {
            "tags": []
          },
          "execution_count": 11
        }
      ]
    },
    {
      "cell_type": "code",
      "metadata": {
        "id": "iGVACoVFKjfk",
        "colab_type": "code",
        "colab": {}
      },
      "source": [
        "x = np.column_stack((np.ones_like(x), x))"
      ],
      "execution_count": 0,
      "outputs": []
    },
    {
      "cell_type": "code",
      "metadata": {
        "id": "V3b9vCEbL4Qe",
        "colab_type": "code",
        "outputId": "369dd765-a2dc-43b8-fff7-34f51e587931",
        "colab": {
          "base_uri": "https://localhost:8080/",
          "height": 197
        }
      },
      "source": [
        "x[:10]"
      ],
      "execution_count": 13,
      "outputs": [
        {
          "output_type": "execute_result",
          "data": {
            "text/plain": [
              "array([[1.        , 0.        ],\n",
              "       [1.        , 0.02020202],\n",
              "       [1.        , 0.04040404],\n",
              "       [1.        , 0.06060606],\n",
              "       [1.        , 0.08080808],\n",
              "       [1.        , 0.1010101 ],\n",
              "       [1.        , 0.12121212],\n",
              "       [1.        , 0.14141414],\n",
              "       [1.        , 0.16161616],\n",
              "       [1.        , 0.18181818]])"
            ]
          },
          "metadata": {
            "tags": []
          },
          "execution_count": 13
        }
      ]
    },
    {
      "cell_type": "markdown",
      "metadata": {
        "id": "5dMP27xPMIn5",
        "colab_type": "text"
      },
      "source": [
        "I : 입력 데이터의 개수\n",
        "\n",
        "N : 입력 데이터의 차원\n",
        "\n",
        "x의 shape는 I, N+1\n",
        "\n",
        "y의 shape는 I, 1\n",
        "\n",
        "theta의 shape는 N+1, 1\n"
      ]
    },
    {
      "cell_type": "code",
      "metadata": {
        "id": "QFMs215ONFw3",
        "colab_type": "code",
        "outputId": "d995259d-9e0a-4597-c460-84268e548b97",
        "colab": {
          "base_uri": "https://localhost:8080/",
          "height": 35
        }
      },
      "source": [
        "x.shape"
      ],
      "execution_count": 14,
      "outputs": [
        {
          "output_type": "execute_result",
          "data": {
            "text/plain": [
              "(100, 2)"
            ]
          },
          "metadata": {
            "tags": []
          },
          "execution_count": 14
        }
      ]
    },
    {
      "cell_type": "code",
      "metadata": {
        "id": "lriVzXjYNA9Z",
        "colab_type": "code",
        "colab": {}
      },
      "source": [
        "I = x.shape[0]\n",
        "N = x.shape[1] - 1"
      ],
      "execution_count": 0,
      "outputs": []
    },
    {
      "cell_type": "markdown",
      "metadata": {
        "id": "ObUEwzLrKvTV",
        "colab_type": "text"
      },
      "source": [
        "## 2. 배치 경사 하강법"
      ]
    },
    {
      "cell_type": "code",
      "metadata": {
        "id": "e3INpmUrL4ry",
        "colab_type": "code",
        "colab": {}
      },
      "source": [
        "# BGD\n",
        "\n",
        "# 파라미터 랜덤으로 초기화\n",
        "theta = np.random.rand(N+1, 1)\n",
        "\n",
        "# 학습률, 에포크 수(반복횟수)\n",
        "alpha = 0.001\n",
        "max_epoch = 10000"
      ],
      "execution_count": 0,
      "outputs": []
    },
    {
      "cell_type": "code",
      "metadata": {
        "id": "EY28Xp7qNXcW",
        "colab_type": "code",
        "colab": {}
      },
      "source": [
        "# 메인 루프\n",
        "'''\n",
        "for epoch in range(1, max_epoch+1):\n",
        "    theta_tp = np.transpose(theta)\n",
        "    for n in range(0, N+1):\n",
        "        gradient = 0\n",
        "        for i in range(1, I):\n",
        "            gradient += (np.matmul(theta_tp, x[i])-y[i]) * x[i, n]\n",
        "        theta[n] = theta[n] - alpha * gradient\n",
        "'''\n",
        "\n",
        "for epoch in range(1, max_epoch+1):\n",
        "    theta_tp = np.transpose(theta)\n",
        "    for n in range(0, N+1):\n",
        "        for i in range(1, I):\n",
        "            gradient = (np.matmul(theta_tp, x[i])-y[i]) * x[i, n]\n",
        "            theta[n] = theta[n] - alpha * gradient"
      ],
      "execution_count": 0,
      "outputs": []
    },
    {
      "cell_type": "code",
      "metadata": {
        "id": "VyuI8apaNYG6",
        "colab_type": "code",
        "outputId": "9200f884-2119-4aea-ec63-c1861022dd53",
        "colab": {
          "base_uri": "https://localhost:8080/",
          "height": 53
        }
      },
      "source": [
        "theta"
      ],
      "execution_count": 18,
      "outputs": [
        {
          "output_type": "execute_result",
          "data": {
            "text/plain": [
              "array([[-1.12832519],\n",
              "       [10.39739257]])"
            ]
          },
          "metadata": {
            "tags": []
          },
          "execution_count": 18
        }
      ]
    },
    {
      "cell_type": "code",
      "metadata": {
        "id": "Oi0VIGx-Pv0k",
        "colab_type": "code",
        "colab": {}
      },
      "source": [
        "def hypo(theta, t):\n",
        "    return theta[0] + theta[1] * t"
      ],
      "execution_count": 0,
      "outputs": []
    },
    {
      "cell_type": "code",
      "metadata": {
        "id": "4k2rj89TQVVZ",
        "colab_type": "code",
        "colab": {
          "base_uri": "https://localhost:8080/",
          "height": 265
        },
        "outputId": "1f6375a5-e8a5-4f20-ddbd-92cf4bb82854"
      },
      "source": [
        "t = x[:, 1]\n",
        "\n",
        "plt.plot(t, y, 'r.')\n",
        "plt.plot(t, hypo(theta, t))\n",
        "\n",
        "plt.show()"
      ],
      "execution_count": 20,
      "outputs": [
        {
          "output_type": "display_data",
          "data": {
            "image/png": "[encoded data removed]",
            "text/plain": [
              "<Figure size 432x288 with 1 Axes>"
            ]
          },
          "metadata": {
            "tags": [],
            "needs_background": "light"
          }
        }
      ]
    },
    {
      "cell_type": "markdown",
      "metadata": {
        "id": "8PBQgZ_QUpui",
        "colab_type": "text"
      },
      "source": [
        "## 3. 확률적 경사하강법\n",
        "random.randrange() 로 i 랜덤으로 골라서 쓰기\n",
        "## 4. 최소제곱법\n",
        "\n",
        "## 5. 3가지 직선 다같이 그리기"
      ]
    }
  ]
}