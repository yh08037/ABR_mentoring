{
  "nbformat": 4,
  "nbformat_minor": 0,
  "metadata": {
    "colab": {
      "name": "ABR_mentoring_1.ipynb",
      "provenance": [],
      "authorship_tag": "ABX9TyMldUy057ZKBZMFwx7i8zU6",
      "include_colab_link": true
    },
    "kernelspec": {
      "name": "python3",
      "display_name": "Python 3"
    }
  },
  "cells": [
    {
      "cell_type": "markdown",
      "metadata": {
        "id": "view-in-github",
        "colab_type": "text"
      },
      "source": [
        "<a href=\"https://colab.research.google.com/github/yh08037/ABR_mentoring/blob/master/ABR_mentoring_1.ipynb\" target=\"_parent\"><img src=\"https://colab.research.google.com/assets/colab-badge.svg\" alt=\"Open In Colab\"/></a>"
      ]
    },
    {
      "cell_type": "markdown",
      "metadata": {
        "id": "8poVk2KH1U6m",
        "colab_type": "text"
      },
      "source": [
        "# ABR 멘토링 1주차\n",
        "## 1. Python 기본 문법\n",
        "### 1) Hello world!"
      ]
    },
    {
      "cell_type": "code",
      "metadata": {
        "id": "UN84vi8K03dO",
        "colab_type": "code",
        "colab": {
          "base_uri": "https://localhost:8080/",
          "height": 35
        },
        "outputId": "87c63d24-0aa7-4cd8-939d-b04ba4e437ba"
      },
      "source": [
        "print('hello world!')"
      ],
      "execution_count": 4,
      "outputs": [
        {
          "output_type": "stream",
          "text": [
            "hello world!\n"
          ],
          "name": "stdout"
        }
      ]
    },
    {
      "cell_type": "markdown",
      "metadata": {
        "id": "cEkTxmaM2fQ5",
        "colab_type": "text"
      },
      "source": [
        "### 2) if문 : 조건문(흐름 제어)\n",
        "\n"
      ]
    },
    {
      "cell_type": "code",
      "metadata": {
        "id": "-TXlYuCp2i-k",
        "colab_type": "code",
        "colab": {}
      },
      "source": [
        "n = 10"
      ],
      "execution_count": 0,
      "outputs": []
    },
    {
      "cell_type": "code",
      "metadata": {
        "id": "n0J79NWq2s3E",
        "colab_type": "code",
        "colab": {
          "base_uri": "https://localhost:8080/",
          "height": 35
        },
        "outputId": "54a28ba6-6c27-4513-c9ab-03bffd93b9f9"
      },
      "source": [
        "if n > 5 :\n",
        "    print('5보다 큽니다.')\n",
        "\n",
        "else:\n",
        "    print('5보다 작거나 같습니다.')"
      ],
      "execution_count": 6,
      "outputs": [
        {
          "output_type": "stream",
          "text": [
            "5보다 큽니다.\n"
          ],
          "name": "stdout"
        }
      ]
    },
    {
      "cell_type": "code",
      "metadata": {
        "id": "R0Tp87jV3GEM",
        "colab_type": "code",
        "colab": {}
      },
      "source": [
        "score = 85"
      ],
      "execution_count": 0,
      "outputs": []
    },
    {
      "cell_type": "code",
      "metadata": {
        "id": "0fgvzsgL3IYE",
        "colab_type": "code",
        "colab": {}
      },
      "source": [
        "if score >= 90:\n",
        "    grade = 'A'\n",
        "\n",
        "elif score >= 80:\n",
        "    grade = 'B'\n",
        "\n",
        "elif score >= 70:\n",
        "    grade = 'C'\n",
        "\n",
        "else:\n",
        "    grade = 'F'"
      ],
      "execution_count": 0,
      "outputs": []
    },
    {
      "cell_type": "code",
      "metadata": {
        "id": "WNTOfDPO3iI3",
        "colab_type": "code",
        "colab": {
          "base_uri": "https://localhost:8080/",
          "height": 35
        },
        "outputId": "18c0cb14-5005-470e-be3f-5dba50addc30"
      },
      "source": [
        "grade"
      ],
      "execution_count": 9,
      "outputs": [
        {
          "output_type": "execute_result",
          "data": {
            "text/plain": [
              "'B'"
            ]
          },
          "metadata": {
            "tags": []
          },
          "execution_count": 9
        }
      ]
    },
    {
      "cell_type": "markdown",
      "metadata": {
        "id": "wonpamZG4Adv",
        "colab_type": "text"
      },
      "source": [
        "### 3) for문 : 반복문\n",
        "반복 횟수가 정해져 있을 때!"
      ]
    },
    {
      "cell_type": "code",
      "metadata": {
        "id": "DBzPOi9l4rEZ",
        "colab_type": "code",
        "colab": {
          "base_uri": "https://localhost:8080/",
          "height": 35
        },
        "outputId": "10b8d4a2-40b7-43c1-dead-123aaf56d0ac"
      },
      "source": [
        "list(range(10)) # 0 ~ 10-1"
      ],
      "execution_count": 14,
      "outputs": [
        {
          "output_type": "execute_result",
          "data": {
            "text/plain": [
              "[0, 1, 2, 3, 4, 5, 6, 7, 8, 9]"
            ]
          },
          "metadata": {
            "tags": []
          },
          "execution_count": 14
        }
      ]
    },
    {
      "cell_type": "code",
      "metadata": {
        "id": "dGEDMZc_4bdk",
        "colab_type": "code",
        "colab": {
          "base_uri": "https://localhost:8080/",
          "height": 197
        },
        "outputId": "5fa13743-75eb-4403-984d-c46cd32a3999"
      },
      "source": [
        "for i in range(10): # 0 ~ 10-1\n",
        "    print(i)"
      ],
      "execution_count": 15,
      "outputs": [
        {
          "output_type": "stream",
          "text": [
            "0\n",
            "1\n",
            "2\n",
            "3\n",
            "4\n",
            "5\n",
            "6\n",
            "7\n",
            "8\n",
            "9\n"
          ],
          "name": "stdout"
        }
      ]
    },
    {
      "cell_type": "code",
      "metadata": {
        "id": "t6D4lDKG5Njh",
        "colab_type": "code",
        "colab": {
          "base_uri": "https://localhost:8080/",
          "height": 35
        },
        "outputId": "aec32f47-e8e9-4aeb-accc-efd842c26ea2"
      },
      "source": [
        "list(range(1, 11)) # 1 ~ 11-1"
      ],
      "execution_count": 18,
      "outputs": [
        {
          "output_type": "execute_result",
          "data": {
            "text/plain": [
              "[1, 2, 3, 4, 5, 6, 7, 8, 9, 10]"
            ]
          },
          "metadata": {
            "tags": []
          },
          "execution_count": 18
        }
      ]
    },
    {
      "cell_type": "code",
      "metadata": {
        "id": "V24DDFrt5CVr",
        "colab_type": "code",
        "colab": {
          "base_uri": "https://localhost:8080/",
          "height": 197
        },
        "outputId": "80c72ecf-dabe-4dea-aad3-73750d6fd454"
      },
      "source": [
        "for i in range(1, 11):\n",
        "    print(i)"
      ],
      "execution_count": 19,
      "outputs": [
        {
          "output_type": "stream",
          "text": [
            "1\n",
            "2\n",
            "3\n",
            "4\n",
            "5\n",
            "6\n",
            "7\n",
            "8\n",
            "9\n",
            "10\n"
          ],
          "name": "stdout"
        }
      ]
    },
    {
      "cell_type": "code",
      "metadata": {
        "id": "GrLf8YuU5le1",
        "colab_type": "code",
        "colab": {
          "base_uri": "https://localhost:8080/",
          "height": 197
        },
        "outputId": "cd5cb510-55b0-4b31-c8a4-4a15af15bb7f"
      },
      "source": [
        "for i in range(10):\n",
        "    for j in range(10-i):\n",
        "        print('*', end='')\n",
        "    print()"
      ],
      "execution_count": 25,
      "outputs": [
        {
          "output_type": "stream",
          "text": [
            "**********\n",
            "*********\n",
            "********\n",
            "*******\n",
            "******\n",
            "*****\n",
            "****\n",
            "***\n",
            "**\n",
            "*\n"
          ],
          "name": "stdout"
        }
      ]
    },
    {
      "cell_type": "markdown",
      "metadata": {
        "id": "GDbfDZdZ6HiB",
        "colab_type": "text"
      },
      "source": [
        "### while문 : 반복문\n",
        "반복 횟수가 정해져 있지 않고, 그 대신 반복을 끝낼 조건이 있을 때!"
      ]
    },
    {
      "cell_type": "code",
      "metadata": {
        "id": "z7JBnbdi6G9f",
        "colab_type": "code",
        "colab": {
          "base_uri": "https://localhost:8080/",
          "height": 197
        },
        "outputId": "ec4a9152-d4a2-469e-ba8c-bf7e7fd1f59c"
      },
      "source": [
        "n = 0\n",
        "\n",
        "while n < 10:\n",
        "    print(n)\n",
        "    n += 1"
      ],
      "execution_count": 28,
      "outputs": [
        {
          "output_type": "stream",
          "text": [
            "0\n",
            "1\n",
            "2\n",
            "3\n",
            "4\n",
            "5\n",
            "6\n",
            "7\n",
            "8\n",
            "9\n"
          ],
          "name": "stdout"
        }
      ]
    },
    {
      "cell_type": "markdown",
      "metadata": {
        "id": "l4YzSUp769_4",
        "colab_type": "text"
      },
      "source": [
        "### list, tuple : 나열형\n",
        "순서가 있는 데이터들의 나열"
      ]
    },
    {
      "cell_type": "code",
      "metadata": {
        "id": "mZ1SyfgR7G58",
        "colab_type": "code",
        "colab": {}
      },
      "source": [
        "lst = [1, 2, 3, 4, 5]"
      ],
      "execution_count": 0,
      "outputs": []
    },
    {
      "cell_type": "code",
      "metadata": {
        "id": "t1mMh-wH7M0S",
        "colab_type": "code",
        "colab": {
          "base_uri": "https://localhost:8080/",
          "height": 35
        },
        "outputId": "7d0d2f00-e3e6-4254-f15d-c5acd7a233ff"
      },
      "source": [
        "type(lst)"
      ],
      "execution_count": 30,
      "outputs": [
        {
          "output_type": "execute_result",
          "data": {
            "text/plain": [
              "list"
            ]
          },
          "metadata": {
            "tags": []
          },
          "execution_count": 30
        }
      ]
    },
    {
      "cell_type": "code",
      "metadata": {
        "id": "e1GPzOvK7WkF",
        "colab_type": "code",
        "colab": {}
      },
      "source": [
        "tpl = (1, 2, 3, 4, 5)"
      ],
      "execution_count": 0,
      "outputs": []
    },
    {
      "cell_type": "code",
      "metadata": {
        "id": "lJzt7y4w7ZGj",
        "colab_type": "code",
        "colab": {
          "base_uri": "https://localhost:8080/",
          "height": 35
        },
        "outputId": "dc36bd24-5a0b-46e5-a833-423a64269523"
      },
      "source": [
        "type(tpl)"
      ],
      "execution_count": 32,
      "outputs": [
        {
          "output_type": "execute_result",
          "data": {
            "text/plain": [
              "tuple"
            ]
          },
          "metadata": {
            "tags": []
          },
          "execution_count": 32
        }
      ]
    },
    {
      "cell_type": "code",
      "metadata": {
        "id": "P9uI2kkq7c2L",
        "colab_type": "code",
        "colab": {}
      },
      "source": [
        "lst.append(6)"
      ],
      "execution_count": 0,
      "outputs": []
    },
    {
      "cell_type": "code",
      "metadata": {
        "id": "Md3bgYb57oz2",
        "colab_type": "code",
        "colab": {
          "base_uri": "https://localhost:8080/",
          "height": 35
        },
        "outputId": "f4d89b30-fdd7-461a-d283-8c6bf32c4d18"
      },
      "source": [
        "lst"
      ],
      "execution_count": 34,
      "outputs": [
        {
          "output_type": "execute_result",
          "data": {
            "text/plain": [
              "[1, 2, 3, 4, 5, 6]"
            ]
          },
          "metadata": {
            "tags": []
          },
          "execution_count": 34
        }
      ]
    },
    {
      "cell_type": "code",
      "metadata": {
        "id": "QCpzbFMDGSNU",
        "colab_type": "code",
        "colab": {
          "base_uri": "https://localhost:8080/",
          "height": 35
        },
        "outputId": "3393a1fc-667e-4d9e-dc03-06b09b22c001"
      },
      "source": [
        "[1, 'abcdef', 3.14, [1,2, 3 ,4], (4, 3)]"
      ],
      "execution_count": 59,
      "outputs": [
        {
          "output_type": "execute_result",
          "data": {
            "text/plain": [
              "[1, 'abcdef', 3.14, [1, 2, 3, 4], (4, 3)]"
            ]
          },
          "metadata": {
            "tags": []
          },
          "execution_count": 59
        }
      ]
    },
    {
      "cell_type": "code",
      "metadata": {
        "id": "hsKUqCcuGhYd",
        "colab_type": "code",
        "colab": {}
      },
      "source": [
        "# 2차원 리스트\n",
        "lst = [[1, 2],\n",
        "       [3, 4]]"
      ],
      "execution_count": 0,
      "outputs": []
    },
    {
      "cell_type": "code",
      "metadata": {
        "id": "4XxOG0wmGolz",
        "colab_type": "code",
        "colab": {
          "base_uri": "https://localhost:8080/",
          "height": 35
        },
        "outputId": "35281cea-7280-4512-fc62-8a3c62150adf"
      },
      "source": [
        "type(lst)"
      ],
      "execution_count": 62,
      "outputs": [
        {
          "output_type": "execute_result",
          "data": {
            "text/plain": [
              "list"
            ]
          },
          "metadata": {
            "tags": []
          },
          "execution_count": 62
        }
      ]
    },
    {
      "cell_type": "markdown",
      "metadata": {
        "id": "Y6Yba_jw73_Z",
        "colab_type": "text"
      },
      "source": [
        "#### index : 나열형의 변수내에서 특정 값의 위치\n",
        "indexing : 인덱스를 통해서 나열형 변수 내의 특정 값을 가져오는 것"
      ]
    },
    {
      "cell_type": "code",
      "metadata": {
        "id": "HGzAJCKY8DsF",
        "colab_type": "code",
        "colab": {}
      },
      "source": [
        "a = [7, 34, 9, 6, 2, 50]"
      ],
      "execution_count": 0,
      "outputs": []
    },
    {
      "cell_type": "code",
      "metadata": {
        "id": "wZOaH7H29BJ3",
        "colab_type": "code",
        "colab": {
          "base_uri": "https://localhost:8080/",
          "height": 35
        },
        "outputId": "c3759878-1c13-47c4-aab2-33999939dc88"
      },
      "source": [
        "len(a)"
      ],
      "execution_count": 40,
      "outputs": [
        {
          "output_type": "execute_result",
          "data": {
            "text/plain": [
              "6"
            ]
          },
          "metadata": {
            "tags": []
          },
          "execution_count": 40
        }
      ]
    },
    {
      "cell_type": "code",
      "metadata": {
        "id": "VtxO__km8IW-",
        "colab_type": "code",
        "colab": {
          "base_uri": "https://localhost:8080/",
          "height": 125
        },
        "outputId": "5610ac92-ec17-4cfb-8d8c-265e6344f46e"
      },
      "source": [
        "for n in a:\n",
        "    print(n)"
      ],
      "execution_count": 38,
      "outputs": [
        {
          "output_type": "stream",
          "text": [
            "7\n",
            "34\n",
            "9\n",
            "6\n",
            "2\n",
            "50\n"
          ],
          "name": "stdout"
        }
      ]
    },
    {
      "cell_type": "code",
      "metadata": {
        "id": "xfU4nxHE8vgx",
        "colab_type": "code",
        "colab": {
          "base_uri": "https://localhost:8080/",
          "height": 125
        },
        "outputId": "ac562c59-37f4-4e15-ca97-5bf2b4f40c0a"
      },
      "source": [
        "for idx in range(len(a)):\n",
        "    print(a[idx])"
      ],
      "execution_count": 39,
      "outputs": [
        {
          "output_type": "stream",
          "text": [
            "7\n",
            "34\n",
            "9\n",
            "6\n",
            "2\n",
            "50\n"
          ],
          "name": "stdout"
        }
      ]
    },
    {
      "cell_type": "markdown",
      "metadata": {
        "id": "Gd6rTVCT9bB3",
        "colab_type": "text"
      },
      "source": [
        "#### unpacking : tuple을 복사\n"
      ]
    },
    {
      "cell_type": "code",
      "metadata": {
        "id": "aicoSu9L9mSV",
        "colab_type": "code",
        "colab": {}
      },
      "source": [
        "x = 1\n",
        "y = 2"
      ],
      "execution_count": 0,
      "outputs": []
    },
    {
      "cell_type": "code",
      "metadata": {
        "id": "QkPZcy549amR",
        "colab_type": "code",
        "colab": {}
      },
      "source": [
        "x, y = 1, 2     # tuple이다!"
      ],
      "execution_count": 0,
      "outputs": []
    },
    {
      "cell_type": "code",
      "metadata": {
        "id": "pc4FusgS9wcK",
        "colab_type": "code",
        "colab": {}
      },
      "source": [
        "(x, y) = (1, 2)"
      ],
      "execution_count": 0,
      "outputs": []
    },
    {
      "cell_type": "markdown",
      "metadata": {
        "id": "EbYUJlQ1-k9y",
        "colab_type": "text"
      },
      "source": [
        "### function\n"
      ]
    },
    {
      "cell_type": "code",
      "metadata": {
        "id": "G3x0c91f-r6R",
        "colab_type": "code",
        "colab": {}
      },
      "source": [
        "def printInfo(name, age):\n",
        "\n",
        "    print('이름 : %s, 나이 : %d' %(name, age))\n",
        "    print('이름 : {}, 나이 : {}'.format(name, age))"
      ],
      "execution_count": 0,
      "outputs": []
    },
    {
      "cell_type": "code",
      "metadata": {
        "id": "c7YJ4J4K_J-G",
        "colab_type": "code",
        "colab": {
          "base_uri": "https://localhost:8080/",
          "height": 53
        },
        "outputId": "fa0640d5-296c-44d4-885c-a079010c6d05"
      },
      "source": [
        "printInfo('김도훈', 23)"
      ],
      "execution_count": 53,
      "outputs": [
        {
          "output_type": "stream",
          "text": [
            "이름 : 김도훈, 나이 : 23\n",
            "이름 : 김도훈, 나이 : 23\n"
          ],
          "name": "stdout"
        }
      ]
    },
    {
      "cell_type": "code",
      "metadata": {
        "id": "0O9KKLtZ_ayr",
        "colab_type": "code",
        "colab": {
          "base_uri": "https://localhost:8080/",
          "height": 35
        },
        "outputId": "88e1a73e-8f35-44ae-f6f7-8aa19516e0d9"
      },
      "source": [
        "printInfo('노규원', ???)"
      ],
      "execution_count": 51,
      "outputs": [
        {
          "output_type": "stream",
          "text": [
            "이름 : 김도훈, 나이 : 23\n"
          ],
          "name": "stdout"
        }
      ]
    },
    {
      "cell_type": "markdown",
      "metadata": {
        "id": "ITvPkJqP1dV_",
        "colab_type": "text"
      },
      "source": [
        "## 2. Jupyter Notebook 기본 사용법\n",
        "\n",
        "ctrl + enter : 선택된 셀을 실행한다.\n",
        "\n",
        "shift + enter : 선택된 셀을 실행하고 나서 다음 셀로 이동\n",
        "\n",
        "ctrl + f9 : 전체 셀을 한번에 실행"
      ]
    },
    {
      "cell_type": "markdown",
      "metadata": {
        "id": "mUrF_KmcFUhE",
        "colab_type": "text"
      },
      "source": [
        "## 3. numpy 기본 사용법"
      ]
    },
    {
      "cell_type": "code",
      "metadata": {
        "id": "qbt8GT9lFZzX",
        "colab_type": "code",
        "colab": {}
      },
      "source": [
        "import numpy as np"
      ],
      "execution_count": 0,
      "outputs": []
    },
    {
      "cell_type": "code",
      "metadata": {
        "id": "ZFGTkwdIFnsb",
        "colab_type": "code",
        "colab": {
          "base_uri": "https://localhost:8080/",
          "height": 35
        },
        "outputId": "a6c7c7aa-9114-4d18-aedd-0ec56272ae4e"
      },
      "source": [
        "np.__version__"
      ],
      "execution_count": 55,
      "outputs": [
        {
          "output_type": "execute_result",
          "data": {
            "text/plain": [
              "'1.18.2'"
            ]
          },
          "metadata": {
            "tags": []
          },
          "execution_count": 55
        }
      ]
    },
    {
      "cell_type": "markdown",
      "metadata": {
        "id": "jIBZzUi4F24K",
        "colab_type": "text"
      },
      "source": [
        "### 행렬 만드는 방법"
      ]
    },
    {
      "cell_type": "code",
      "metadata": {
        "id": "yL8c3lhlFpvx",
        "colab_type": "code",
        "colab": {}
      },
      "source": [
        "lst = [[1, 2],\n",
        "       [3, 4]]\n",
        "a = np.array(lst)\n",
        "# a = np.asarray(lst)"
      ],
      "execution_count": 0,
      "outputs": []
    },
    {
      "cell_type": "code",
      "metadata": {
        "id": "9a0ZHATvGFaD",
        "colab_type": "code",
        "colab": {
          "base_uri": "https://localhost:8080/",
          "height": 53
        },
        "outputId": "f798e6b8-0b48-4a18-9256-8392b4493819"
      },
      "source": [
        "a"
      ],
      "execution_count": 64,
      "outputs": [
        {
          "output_type": "execute_result",
          "data": {
            "text/plain": [
              "array([[1, 2],\n",
              "       [3, 4]])"
            ]
          },
          "metadata": {
            "tags": []
          },
          "execution_count": 64
        }
      ]
    },
    {
      "cell_type": "code",
      "metadata": {
        "id": "qYaMmb9aGGnc",
        "colab_type": "code",
        "colab": {
          "base_uri": "https://localhost:8080/",
          "height": 35
        },
        "outputId": "d72b3fdf-6eed-433e-ea7a-c776181c9de8"
      },
      "source": [
        "type(a)"
      ],
      "execution_count": 65,
      "outputs": [
        {
          "output_type": "execute_result",
          "data": {
            "text/plain": [
              "numpy.ndarray"
            ]
          },
          "metadata": {
            "tags": []
          },
          "execution_count": 65
        }
      ]
    },
    {
      "cell_type": "markdown",
      "metadata": {
        "id": "oaqP_F28HFtf",
        "colab_type": "text"
      },
      "source": [
        "### 행렬 곱을 하는 방법"
      ]
    },
    {
      "cell_type": "code",
      "metadata": {
        "id": "hjoL-y4hGI6Y",
        "colab_type": "code",
        "colab": {}
      },
      "source": [
        "b = np.array([[5, 6, 7],\n",
        "              [8, 9, 10]])"
      ],
      "execution_count": 0,
      "outputs": []
    },
    {
      "cell_type": "code",
      "metadata": {
        "id": "PHnFhE5HHYYq",
        "colab_type": "code",
        "colab": {}
      },
      "source": [
        "c = np.matmul(a, b)"
      ],
      "execution_count": 0,
      "outputs": []
    },
    {
      "cell_type": "code",
      "metadata": {
        "id": "lJxYBDNiHgJq",
        "colab_type": "code",
        "colab": {
          "base_uri": "https://localhost:8080/",
          "height": 53
        },
        "outputId": "0ebadf7c-8e50-43ff-82f3-11c66265dfdf"
      },
      "source": [
        "c"
      ],
      "execution_count": 68,
      "outputs": [
        {
          "output_type": "execute_result",
          "data": {
            "text/plain": [
              "array([[21, 24, 27],\n",
              "       [47, 54, 61]])"
            ]
          },
          "metadata": {
            "tags": []
          },
          "execution_count": 68
        }
      ]
    },
    {
      "cell_type": "code",
      "metadata": {
        "id": "iDLAV8OyHgvZ",
        "colab_type": "code",
        "colab": {}
      },
      "source": [
        "c = a @ b"
      ],
      "execution_count": 0,
      "outputs": []
    },
    {
      "cell_type": "code",
      "metadata": {
        "id": "AsIUiIa0HviS",
        "colab_type": "code",
        "colab": {
          "base_uri": "https://localhost:8080/",
          "height": 53
        },
        "outputId": "70c50e8f-0478-48c3-a0b0-5dd173cd21c6"
      },
      "source": [
        "c"
      ],
      "execution_count": 71,
      "outputs": [
        {
          "output_type": "execute_result",
          "data": {
            "text/plain": [
              "array([[21, 24, 27],\n",
              "       [47, 54, 61]])"
            ]
          },
          "metadata": {
            "tags": []
          },
          "execution_count": 71
        }
      ]
    },
    {
      "cell_type": "markdown",
      "metadata": {
        "id": "GYfdi07cH_a6",
        "colab_type": "text"
      },
      "source": [
        "### 행렬 전치"
      ]
    },
    {
      "cell_type": "code",
      "metadata": {
        "id": "xnBQC8qsHyRp",
        "colab_type": "code",
        "colab": {}
      },
      "source": [
        "d = np.transpose(b)"
      ],
      "execution_count": 0,
      "outputs": []
    },
    {
      "cell_type": "code",
      "metadata": {
        "id": "_Awrnw4tIGj6",
        "colab_type": "code",
        "colab": {
          "base_uri": "https://localhost:8080/",
          "height": 71
        },
        "outputId": "24b8af04-2096-4d8e-bfb5-14e8b1ce32c0"
      },
      "source": [
        "d"
      ],
      "execution_count": 73,
      "outputs": [
        {
          "output_type": "execute_result",
          "data": {
            "text/plain": [
              "array([[ 5,  8],\n",
              "       [ 6,  9],\n",
              "       [ 7, 10]])"
            ]
          },
          "metadata": {
            "tags": []
          },
          "execution_count": 73
        }
      ]
    },
    {
      "cell_type": "markdown",
      "metadata": {
        "id": "zQKi8J0aIQfc",
        "colab_type": "text"
      },
      "source": [
        "$$\n",
        "\\text{traspose of A} : A^T\n",
        "$$"
      ]
    },
    {
      "cell_type": "code",
      "metadata": {
        "id": "VgAQGUd4IG4a",
        "colab_type": "code",
        "colab": {}
      },
      "source": [
        "d = b.T"
      ],
      "execution_count": 0,
      "outputs": []
    },
    {
      "cell_type": "code",
      "metadata": {
        "id": "00zYb2_rIM3h",
        "colab_type": "code",
        "colab": {
          "base_uri": "https://localhost:8080/",
          "height": 71
        },
        "outputId": "8f2bb829-b63b-468c-9894-8199a4c262b7"
      },
      "source": [
        "d"
      ],
      "execution_count": 75,
      "outputs": [
        {
          "output_type": "execute_result",
          "data": {
            "text/plain": [
              "array([[ 5,  8],\n",
              "       [ 6,  9],\n",
              "       [ 7, 10]])"
            ]
          },
          "metadata": {
            "tags": []
          },
          "execution_count": 75
        }
      ]
    },
    {
      "cell_type": "markdown",
      "metadata": {
        "id": "1h6Th1NUIijs",
        "colab_type": "text"
      },
      "source": [
        "### 역행렬 "
      ]
    },
    {
      "cell_type": "code",
      "metadata": {
        "id": "X-BVWxWwINox",
        "colab_type": "code",
        "colab": {}
      },
      "source": [
        "e = np.linalg.inv(a)"
      ],
      "execution_count": 0,
      "outputs": []
    },
    {
      "cell_type": "code",
      "metadata": {
        "id": "JPvMlW6GIx1-",
        "colab_type": "code",
        "colab": {
          "base_uri": "https://localhost:8080/",
          "height": 53
        },
        "outputId": "003c9bfb-d83d-45e2-8d75-e49d66bc3f44"
      },
      "source": [
        "e"
      ],
      "execution_count": 77,
      "outputs": [
        {
          "output_type": "execute_result",
          "data": {
            "text/plain": [
              "array([[-2. ,  1. ],\n",
              "       [ 1.5, -0.5]])"
            ]
          },
          "metadata": {
            "tags": []
          },
          "execution_count": 77
        }
      ]
    },
    {
      "cell_type": "markdown",
      "metadata": {
        "id": "tipnV6F8JAiM",
        "colab_type": "text"
      },
      "source": [
        "### numpy 행렬의 indexing"
      ]
    },
    {
      "cell_type": "code",
      "metadata": {
        "id": "_hjxvEjIJDXL",
        "colab_type": "code",
        "colab": {
          "base_uri": "https://localhost:8080/",
          "height": 35
        },
        "outputId": "4f9d4161-a4ba-44ac-a231-9275c1cc4c7e"
      },
      "source": [
        "d[1,0]"
      ],
      "execution_count": 78,
      "outputs": [
        {
          "output_type": "execute_result",
          "data": {
            "text/plain": [
              "6"
            ]
          },
          "metadata": {
            "tags": []
          },
          "execution_count": 78
        }
      ]
    },
    {
      "cell_type": "code",
      "metadata": {
        "id": "rLur9v_VJNJU",
        "colab_type": "code",
        "colab": {
          "base_uri": "https://localhost:8080/",
          "height": 35
        },
        "outputId": "78dfeae8-ea07-4b42-f6e4-1c9ec05b4321"
      },
      "source": [
        "d[:,0]"
      ],
      "execution_count": 79,
      "outputs": [
        {
          "output_type": "execute_result",
          "data": {
            "text/plain": [
              "array([5, 6, 7])"
            ]
          },
          "metadata": {
            "tags": []
          },
          "execution_count": 79
        }
      ]
    },
    {
      "cell_type": "code",
      "metadata": {
        "id": "90zZQfdeJVEy",
        "colab_type": "code",
        "colab": {
          "base_uri": "https://localhost:8080/",
          "height": 35
        },
        "outputId": "924563e6-c146-421a-8b30-6e7bcae4f555"
      },
      "source": [
        "d[2,:]"
      ],
      "execution_count": 80,
      "outputs": [
        {
          "output_type": "execute_result",
          "data": {
            "text/plain": [
              "array([ 7, 10])"
            ]
          },
          "metadata": {
            "tags": []
          },
          "execution_count": 80
        }
      ]
    }
  ]
}