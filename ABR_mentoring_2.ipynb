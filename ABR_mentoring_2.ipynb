{
  "nbformat": 4,
  "nbformat_minor": 0,
  "metadata": {
    "colab": {
      "name": "ABR_mentoring_2.ipynb",
      "provenance": [],
      "toc_visible": true,
      "authorship_tag": "ABX9TyNYH/FEMZySpwhHp9n3QPyO",
      "include_colab_link": true
    },
    "kernelspec": {
      "name": "python3",
      "display_name": "Python 3"
    }
  },
  "cells": [
    {
      "cell_type": "markdown",
      "metadata": {
        "id": "view-in-github",
        "colab_type": "text"
      },
      "source": [
        "<a href=\"https://colab.research.google.com/github/yh08037/ABR_mentoring/blob/master/ABR_mentoring_2.ipynb\" target=\"_parent\"><img src=\"https://colab.research.google.com/assets/colab-badge.svg\" alt=\"Open In Colab\"/></a>"
      ]
    },
    {
      "cell_type": "markdown",
      "metadata": {
        "id": "JNygB-ZGUj0v",
        "colab_type": "text"
      },
      "source": [
        "# Week 2\n",
        "## 1. Github 사용법\n",
        "## 2. Pandas 기본 사용법\n",
        "\n",
        "구분자(seperator)\n",
        "\n",
        "csv(Comma Seperated values)\n",
        "\n",
        "* data_lab1.txt : space로 구분된 100행 2열 데이터\n",
        "* data_lab2.txt : tab으로 구분된 200행 2열 데이터\n",
        "* data_lab3.txt : space로 구분된 51행 3열 데이터"
      ]
    },
    {
      "cell_type": "code",
      "metadata": {
        "id": "HzcUK3sWUjmT",
        "colab_type": "code",
        "colab": {}
      },
      "source": [
        "import pandas as pd\n",
        "import numpy as np"
      ],
      "execution_count": 0,
      "outputs": []
    },
    {
      "cell_type": "code",
      "metadata": {
        "id": "PQm9LAdZSMzz",
        "colab_type": "code",
        "colab": {}
      },
      "source": [
        "# 파일 읽기\n",
        "\n",
        "file_path = '/content/data_lab1.txt'\n",
        "columns = ['x', 'y']\n",
        "\n",
        "# txt 파일 -> dataframe\n",
        "data_df = pd.read_csv(file_path, sep=' ', names=columns)"
      ],
      "execution_count": 0,
      "outputs": []
    },
    {
      "cell_type": "code",
      "metadata": {
        "id": "_1UDTJ8cgNqK",
        "colab_type": "code",
        "colab": {
          "base_uri": "https://localhost:8080/",
          "height": 419
        },
        "outputId": "d592834f-acaa-4dd2-82ca-e76594442f38"
      },
      "source": [
        "data_df"
      ],
      "execution_count": 8,
      "outputs": [
        {
          "output_type": "execute_result",
          "data": {
            "text/html": [
              "<div>\n",
              "<style scoped>\n",
              "    .dataframe tbody tr th:only-of-type {\n",
              "        vertical-align: middle;\n",
              "    }\n",
              "\n",
              "    .dataframe tbody tr th {\n",
              "        vertical-align: top;\n",
              "    }\n",
              "\n",
              "    .dataframe thead th {\n",
              "        text-align: right;\n",
              "    }\n",
              "</style>\n",
              "<table border=\"1\" class=\"dataframe\">\n",
              "  <thead>\n",
              "    <tr style=\"text-align: right;\">\n",
              "      <th></th>\n",
              "      <th>x</th>\n",
              "      <th>y</th>\n",
              "    </tr>\n",
              "  </thead>\n",
              "  <tbody>\n",
              "    <tr>\n",
              "      <th>0</th>\n",
              "      <td>0.000000</td>\n",
              "      <td>0.685785</td>\n",
              "    </tr>\n",
              "    <tr>\n",
              "      <th>1</th>\n",
              "      <td>0.020202</td>\n",
              "      <td>1.671735</td>\n",
              "    </tr>\n",
              "    <tr>\n",
              "      <th>2</th>\n",
              "      <td>0.040404</td>\n",
              "      <td>2.406276</td>\n",
              "    </tr>\n",
              "    <tr>\n",
              "      <th>3</th>\n",
              "      <td>0.060606</td>\n",
              "      <td>0.375167</td>\n",
              "    </tr>\n",
              "    <tr>\n",
              "      <th>4</th>\n",
              "      <td>0.080808</td>\n",
              "      <td>4.355949</td>\n",
              "    </tr>\n",
              "    <tr>\n",
              "      <th>...</th>\n",
              "      <td>...</td>\n",
              "      <td>...</td>\n",
              "    </tr>\n",
              "    <tr>\n",
              "      <th>95</th>\n",
              "      <td>1.919192</td>\n",
              "      <td>19.975148</td>\n",
              "    </tr>\n",
              "    <tr>\n",
              "      <th>96</th>\n",
              "      <td>1.939394</td>\n",
              "      <td>20.358975</td>\n",
              "    </tr>\n",
              "    <tr>\n",
              "      <th>97</th>\n",
              "      <td>1.959596</td>\n",
              "      <td>22.849086</td>\n",
              "    </tr>\n",
              "    <tr>\n",
              "      <th>98</th>\n",
              "      <td>1.979798</td>\n",
              "      <td>19.977494</td>\n",
              "    </tr>\n",
              "    <tr>\n",
              "      <th>99</th>\n",
              "      <td>2.000000</td>\n",
              "      <td>20.861562</td>\n",
              "    </tr>\n",
              "  </tbody>\n",
              "</table>\n",
              "<p>100 rows × 2 columns</p>\n",
              "</div>"
            ],
            "text/plain": [
              "           x          y\n",
              "0   0.000000   0.685785\n",
              "1   0.020202   1.671735\n",
              "2   0.040404   2.406276\n",
              "3   0.060606   0.375167\n",
              "4   0.080808   4.355949\n",
              "..       ...        ...\n",
              "95  1.919192  19.975148\n",
              "96  1.939394  20.358975\n",
              "97  1.959596  22.849086\n",
              "98  1.979798  19.977494\n",
              "99  2.000000  20.861562\n",
              "\n",
              "[100 rows x 2 columns]"
            ]
          },
          "metadata": {
            "tags": []
          },
          "execution_count": 8
        }
      ]
    },
    {
      "cell_type": "code",
      "metadata": {
        "id": "3uQfsGmaihq3",
        "colab_type": "code",
        "colab": {
          "base_uri": "https://localhost:8080/",
          "height": 233
        },
        "outputId": "4ce2eaa9-84a8-44be-f591-32d3681bdec6"
      },
      "source": [
        "data_df['x']"
      ],
      "execution_count": 12,
      "outputs": [
        {
          "output_type": "execute_result",
          "data": {
            "text/plain": [
              "0     0.000000\n",
              "1     0.020202\n",
              "2     0.040404\n",
              "3     0.060606\n",
              "4     0.080808\n",
              "        ...   \n",
              "95    1.919192\n",
              "96    1.939394\n",
              "97    1.959596\n",
              "98    1.979798\n",
              "99    2.000000\n",
              "Name: x, Length: 100, dtype: float64"
            ]
          },
          "metadata": {
            "tags": []
          },
          "execution_count": 12
        }
      ]
    },
    {
      "cell_type": "code",
      "metadata": {
        "id": "bNBCeV_biQM0",
        "colab_type": "code",
        "colab": {
          "base_uri": "https://localhost:8080/",
          "height": 35
        },
        "outputId": "909744ea-ff54-4620-e66a-c767a467302d"
      },
      "source": [
        "type(data_df['x'])"
      ],
      "execution_count": 11,
      "outputs": [
        {
          "output_type": "execute_result",
          "data": {
            "text/plain": [
              "pandas.core.series.Series"
            ]
          },
          "metadata": {
            "tags": []
          },
          "execution_count": 11
        }
      ]
    },
    {
      "cell_type": "code",
      "metadata": {
        "id": "JPdwe4rRgPP3",
        "colab_type": "code",
        "colab": {
          "base_uri": "https://localhost:8080/",
          "height": 35
        },
        "outputId": "5ecffeea-010d-483d-fb98-6e0bd216f1ae"
      },
      "source": [
        "type(data_df)"
      ],
      "execution_count": 9,
      "outputs": [
        {
          "output_type": "execute_result",
          "data": {
            "text/plain": [
              "pandas.core.frame.DataFrame"
            ]
          },
          "metadata": {
            "tags": []
          },
          "execution_count": 9
        }
      ]
    },
    {
      "cell_type": "code",
      "metadata": {
        "id": "YtLUFlH5h2Sq",
        "colab_type": "code",
        "colab": {}
      },
      "source": [
        "# pandas dataframe을 numpy array로 변환하기\n",
        "x = np.asarray(data_df['x'])\n",
        "y = np.asarray(data_df['y'])"
      ],
      "execution_count": 0,
      "outputs": []
    },
    {
      "cell_type": "code",
      "metadata": {
        "id": "6zX-KXRzipjf",
        "colab_type": "code",
        "colab": {
          "base_uri": "https://localhost:8080/",
          "height": 737
        },
        "outputId": "5d4a024c-15da-457d-add8-d32146a6ce0e"
      },
      "source": [
        "x, y"
      ],
      "execution_count": 16,
      "outputs": [
        {
          "output_type": "execute_result",
          "data": {
            "text/plain": [
              "(array([0.        , 0.02020202, 0.04040404, 0.06060606, 0.08080808,\n",
              "        0.1010101 , 0.12121212, 0.14141414, 0.16161616, 0.18181818,\n",
              "        0.2020202 , 0.22222222, 0.24242424, 0.26262626, 0.28282828,\n",
              "        0.3030303 , 0.32323232, 0.34343434, 0.36363636, 0.38383838,\n",
              "        0.4040404 , 0.42424242, 0.44444444, 0.46464646, 0.48484848,\n",
              "        0.50505051, 0.52525253, 0.54545455, 0.56565657, 0.58585859,\n",
              "        0.60606061, 0.62626263, 0.64646465, 0.66666667, 0.68686869,\n",
              "        0.70707071, 0.72727273, 0.74747475, 0.76767677, 0.78787879,\n",
              "        0.80808081, 0.82828283, 0.84848485, 0.86868687, 0.88888889,\n",
              "        0.90909091, 0.92929293, 0.94949495, 0.96969697, 0.98989899,\n",
              "        1.01010101, 1.03030303, 1.05050505, 1.07070707, 1.09090909,\n",
              "        1.11111111, 1.13131313, 1.15151515, 1.17171717, 1.19191919,\n",
              "        1.21212121, 1.23232323, 1.25252525, 1.27272727, 1.29292929,\n",
              "        1.31313131, 1.33333333, 1.35353535, 1.37373737, 1.39393939,\n",
              "        1.41414141, 1.43434343, 1.45454545, 1.47474747, 1.49494949,\n",
              "        1.51515152, 1.53535354, 1.55555556, 1.57575758, 1.5959596 ,\n",
              "        1.61616162, 1.63636364, 1.65656566, 1.67676768, 1.6969697 ,\n",
              "        1.71717172, 1.73737374, 1.75757576, 1.77777778, 1.7979798 ,\n",
              "        1.81818182, 1.83838384, 1.85858586, 1.87878788, 1.8989899 ,\n",
              "        1.91919192, 1.93939394, 1.95959596, 1.97979798, 2.        ]),\n",
              " array([ 0.68578517,  1.67173466,  2.40627588,  0.3751675 ,  4.35594913,\n",
              "         2.10969915,  2.79043498,  3.10140969,  2.27021292,  3.04895187,\n",
              "         1.36062133,  3.35708102,  2.16839923,  0.28828214,  1.74450885,\n",
              "         2.41744988,  3.80594814,  3.80438108,  2.16199538,  2.42897795,\n",
              "        -0.44996801, -0.53637656,  4.87055098,  4.03894968,  3.73009408,\n",
              "         2.70617406,  4.0571623 ,  4.50248236,  6.06706501,  3.12170854,\n",
              "         5.31650846,  2.30738535,  5.36486812,  4.06768674,  6.78099526,\n",
              "         6.79484468,  7.32837586,  4.54617582,  6.66892731,  7.19489156,\n",
              "         2.03825055,  6.66442701, 10.03002174,  8.67924421,  7.68844157,\n",
              "         6.76491835,  8.66236511,  6.06810032,  4.36557123,  6.20852952,\n",
              "         9.76477405,  6.40222252, 10.58672732, 11.65365249, 10.83726014,\n",
              "         7.63963357, 10.09047527, 11.06861667, 10.19156167, 10.16350382,\n",
              "        10.96861744,  8.99116146, 11.54593506, 12.77806509, 11.33858064,\n",
              "        12.54740803,  8.15455114, 13.34701127, 13.62986868, 12.79246749,\n",
              "         9.89197943, 11.6865094 , 11.53848848, 12.32661975, 13.16357636,\n",
              "        13.40694922, 17.57099426, 14.84506798, 14.77371664, 16.22418102,\n",
              "        16.96656139, 15.94898632, 17.14578365, 17.41877791, 16.69669184,\n",
              "        18.04152905, 19.84652478, 15.49139032, 17.60194456, 17.17544837,\n",
              "        18.55359153, 19.44156575, 21.326892  , 18.6737602 , 22.59004404,\n",
              "        19.97514836, 20.35897525, 22.84908603, 19.97749417, 20.86156222]))"
            ]
          },
          "metadata": {
            "tags": []
          },
          "execution_count": 16
        }
      ]
    },
    {
      "cell_type": "code",
      "metadata": {
        "id": "Sz4d4UZZizPv",
        "colab_type": "code",
        "colab": {
          "base_uri": "https://localhost:8080/",
          "height": 35
        },
        "outputId": "a3b92929-2b75-42b2-a4e4-c1c55e5f70f2"
      },
      "source": [
        "x.shape, y.shape"
      ],
      "execution_count": 18,
      "outputs": [
        {
          "output_type": "execute_result",
          "data": {
            "text/plain": [
              "((100,), (100,))"
            ]
          },
          "metadata": {
            "tags": []
          },
          "execution_count": 18
        }
      ]
    },
    {
      "cell_type": "code",
      "metadata": {
        "id": "1pJGRWAci9gX",
        "colab_type": "code",
        "colab": {}
      },
      "source": [
        "x = x.reshape((-1, 1))\n",
        "y = y.reshape((-1, 1))"
      ],
      "execution_count": 0,
      "outputs": []
    },
    {
      "cell_type": "code",
      "metadata": {
        "id": "rwn9P4ZGjTyX",
        "colab_type": "code",
        "colab": {
          "base_uri": "https://localhost:8080/",
          "height": 35
        },
        "outputId": "4a866143-e8ba-4b2e-8624-7e76d20a625d"
      },
      "source": [
        "x.shape, y.shape"
      ],
      "execution_count": 23,
      "outputs": [
        {
          "output_type": "execute_result",
          "data": {
            "text/plain": [
              "((100, 1), (100, 1))"
            ]
          },
          "metadata": {
            "tags": []
          },
          "execution_count": 23
        }
      ]
    },
    {
      "cell_type": "markdown",
      "metadata": {
        "id": "8PA7UxfGj_YE",
        "colab_type": "text"
      },
      "source": [
        "## 3. matplotlib로 plot해보기"
      ]
    },
    {
      "cell_type": "code",
      "metadata": {
        "id": "2-6KP115jYTn",
        "colab_type": "code",
        "colab": {}
      },
      "source": [
        "import matplotlib.pyplot as plt"
      ],
      "execution_count": 0,
      "outputs": []
    },
    {
      "cell_type": "code",
      "metadata": {
        "id": "9ZKC13hmkO7n",
        "colab_type": "code",
        "colab": {
          "base_uri": "https://localhost:8080/",
          "height": 283
        },
        "outputId": "0f7e2e1f-e96d-48a5-c1c6-a778eebf0cc8"
      },
      "source": [
        "plt.plot(x, y) # 기본 선 색깔/종류"
      ],
      "execution_count": 25,
      "outputs": [
        {
          "output_type": "execute_result",
          "data": {
            "text/plain": [
              "[<matplotlib.lines.Line2D at 0x7fc600c1f860>]"
            ]
          },
          "metadata": {
            "tags": []
          },
          "execution_count": 25
        },
        {
          "output_type": "display_data",
          "data": {
            "image/png": "[encoded data removed]",
            "text/plain": [
              "<Figure size 432x288 with 1 Axes>"
            ]
          },
          "metadata": {
            "tags": [],
            "needs_background": "light"
          }
        }
      ]
    },
    {
      "cell_type": "code",
      "metadata": {
        "id": "aLbjVaCRkmlK",
        "colab_type": "code",
        "colab": {
          "base_uri": "https://localhost:8080/",
          "height": 283
        },
        "outputId": "6653dd88-14a0-45b6-ad2d-92272e44de02"
      },
      "source": [
        "plt.plot(x, y, 'ro') # 빨간색 동그라미"
      ],
      "execution_count": 26,
      "outputs": [
        {
          "output_type": "execute_result",
          "data": {
            "text/plain": [
              "[<matplotlib.lines.Line2D at 0x7fc60076ee10>]"
            ]
          },
          "metadata": {
            "tags": []
          },
          "execution_count": 26
        },
        {
          "output_type": "display_data",
          "data": {
            "image/png": "[encoded data removed]",
            "text/plain": [
              "<Figure size 432x288 with 1 Axes>"
            ]
          },
          "metadata": {
            "tags": [],
            "needs_background": "light"
          }
        }
      ]
    },
    {
      "cell_type": "code",
      "metadata": {
        "id": "RkyhRCUbkrcW",
        "colab_type": "code",
        "colab": {
          "base_uri": "https://localhost:8080/",
          "height": 283
        },
        "outputId": "9eead0e1-15db-47b4-aa30-2f767211de84"
      },
      "source": [
        "plt.plot(x, y, 'b.') # 파란색 작은 점"
      ],
      "execution_count": 27,
      "outputs": [
        {
          "output_type": "execute_result",
          "data": {
            "text/plain": [
              "[<matplotlib.lines.Line2D at 0x7fc6006e6198>]"
            ]
          },
          "metadata": {
            "tags": []
          },
          "execution_count": 27
        },
        {
          "output_type": "display_data",
          "data": {
            "image/png": "[encoded data removed]",
            "text/plain": [
              "<Figure size 432x288 with 1 Axes>"
            ]
          },
          "metadata": {
            "tags": [],
            "needs_background": "light"
          }
        }
      ]
    },
    {
      "cell_type": "code",
      "metadata": {
        "id": "Me_ySaoplGd5",
        "colab_type": "code",
        "colab": {
          "base_uri": "https://localhost:8080/",
          "height": 265
        },
        "outputId": "7d9ef280-08ce-417e-dc18-a1cfb505d55a"
      },
      "source": [
        "plt.plot(x, y, 'k-'); # 검은색 선"
      ],
      "execution_count": 32,
      "outputs": [
        {
          "output_type": "display_data",
          "data": {
            "image/png": "[encoded data removed]",
            "text/plain": [
              "<Figure size 432x288 with 1 Axes>"
            ]
          },
          "metadata": {
            "tags": [],
            "needs_background": "light"
          }
        }
      ]
    },
    {
      "cell_type": "code",
      "metadata": {
        "id": "DOKv4VnKlQ0_",
        "colab_type": "code",
        "colab": {
          "base_uri": "https://localhost:8080/",
          "height": 265
        },
        "outputId": "f20975cc-444a-4d31-da1a-fee7e772348b"
      },
      "source": [
        "_ = plt.plot(x, y, 'gx')"
      ],
      "execution_count": 31,
      "outputs": [
        {
          "output_type": "display_data",
          "data": {
            "image/png": "[encoded data removed]",
            "text/plain": [
              "<Figure size 432x288 with 1 Axes>"
            ]
          },
          "metadata": {
            "tags": [],
            "needs_background": "light"
          }
        }
      ]
    },
    {
      "cell_type": "code",
      "metadata": {
        "id": "Q4ngmIQmlnNg",
        "colab_type": "code",
        "colab": {}
      },
      "source": [
        "a = 2"
      ],
      "execution_count": 0,
      "outputs": []
    },
    {
      "cell_type": "code",
      "metadata": {
        "id": "7jINO9iVl8nh",
        "colab_type": "code",
        "colab": {
          "base_uri": "https://localhost:8080/",
          "height": 35
        },
        "outputId": "aa395141-e0d0-4fa2-99af-e3f498a81601"
      },
      "source": [
        "a"
      ],
      "execution_count": 34,
      "outputs": [
        {
          "output_type": "execute_result",
          "data": {
            "text/plain": [
              "2"
            ]
          },
          "metadata": {
            "tags": []
          },
          "execution_count": 34
        }
      ]
    },
    {
      "cell_type": "code",
      "metadata": {
        "id": "DKlDZSV-l9dZ",
        "colab_type": "code",
        "colab": {}
      },
      "source": [
        "_ = a"
      ],
      "execution_count": 0,
      "outputs": []
    },
    {
      "cell_type": "code",
      "metadata": {
        "id": "bN4tT3-Zl-jQ",
        "colab_type": "code",
        "colab": {}
      },
      "source": [
        "a;"
      ],
      "execution_count": 0,
      "outputs": []
    },
    {
      "cell_type": "markdown",
      "metadata": {
        "id": "RJ5K6aJlmHyv",
        "colab_type": "text"
      },
      "source": [
        "### plt.plot() 더 알아보기"
      ]
    },
    {
      "cell_type": "code",
      "metadata": {
        "id": "KmLwU2irmGkM",
        "colab_type": "code",
        "colab": {
          "base_uri": "https://localhost:8080/",
          "height": 295
        },
        "outputId": "a9743a10-ff60-4f3a-f44f-08c83e435ca2"
      },
      "source": [
        "plt.plot(x, y, 'y^', label='asdfasdf')\n",
        "\n",
        "# 축 제목 붙이기\n",
        "plt.xlabel('X')\n",
        "plt.ylabel('Y')\n",
        "\n",
        "# 그래프 제목 붙이기\n",
        "plt.title('Plot of data_lab1.txt')\n",
        "\n",
        "# 범례 추가하기\n",
        "plt.legend(loc='lower right')\n",
        "\n",
        "plt.show()"
      ],
      "execution_count": 47,
      "outputs": [
        {
          "output_type": "display_data",
          "data": {
            "image/png": "[encoded data removed]",
            "text/plain": [
              "<Figure size 432x288 with 1 Axes>"
            ]
          },
          "metadata": {
            "tags": [],
            "needs_background": "light"
          }
        }
      ]
    },
    {
      "cell_type": "markdown",
      "metadata": {
        "id": "5Qx44nLNoRgP",
        "colab_type": "text"
      },
      "source": [
        "## 추가 연습"
      ]
    },
    {
      "cell_type": "code",
      "metadata": {
        "id": "wCe-OWcDoS-U",
        "colab_type": "code",
        "colab": {}
      },
      "source": [
        "data3 = pd.read_csv('/content/data_lab3.txt', sep=' ', names=['x', 'y', 'label'])"
      ],
      "execution_count": 0,
      "outputs": []
    },
    {
      "cell_type": "code",
      "metadata": {
        "id": "SRQM9IMmoTB3",
        "colab_type": "code",
        "colab": {
          "base_uri": "https://localhost:8080/",
          "height": 1000
        },
        "outputId": "2735066d-fa52-4768-bb2d-05944bacd965"
      },
      "source": [
        "data3"
      ],
      "execution_count": 49,
      "outputs": [
        {
          "output_type": "execute_result",
          "data": {
            "text/html": [
              "<div>\n",
              "<style scoped>\n",
              "    .dataframe tbody tr th:only-of-type {\n",
              "        vertical-align: middle;\n",
              "    }\n",
              "\n",
              "    .dataframe tbody tr th {\n",
              "        vertical-align: top;\n",
              "    }\n",
              "\n",
              "    .dataframe thead th {\n",
              "        text-align: right;\n",
              "    }\n",
              "</style>\n",
              "<table border=\"1\" class=\"dataframe\">\n",
              "  <thead>\n",
              "    <tr style=\"text-align: right;\">\n",
              "      <th></th>\n",
              "      <th>x</th>\n",
              "      <th>y</th>\n",
              "      <th>label</th>\n",
              "    </tr>\n",
              "  </thead>\n",
              "  <tbody>\n",
              "    <tr>\n",
              "      <th>0</th>\n",
              "      <td>1.964300</td>\n",
              "      <td>4.5957</td>\n",
              "      <td>1</td>\n",
              "    </tr>\n",
              "    <tr>\n",
              "      <th>1</th>\n",
              "      <td>2.275300</td>\n",
              "      <td>3.8589</td>\n",
              "      <td>1</td>\n",
              "    </tr>\n",
              "    <tr>\n",
              "      <th>2</th>\n",
              "      <td>2.978100</td>\n",
              "      <td>4.5651</td>\n",
              "      <td>1</td>\n",
              "    </tr>\n",
              "    <tr>\n",
              "      <th>3</th>\n",
              "      <td>2.932000</td>\n",
              "      <td>3.5519</td>\n",
              "      <td>1</td>\n",
              "    </tr>\n",
              "    <tr>\n",
              "      <th>4</th>\n",
              "      <td>3.577200</td>\n",
              "      <td>2.8560</td>\n",
              "      <td>1</td>\n",
              "    </tr>\n",
              "    <tr>\n",
              "      <th>5</th>\n",
              "      <td>4.015000</td>\n",
              "      <td>3.1937</td>\n",
              "      <td>1</td>\n",
              "    </tr>\n",
              "    <tr>\n",
              "      <th>6</th>\n",
              "      <td>3.381400</td>\n",
              "      <td>3.4291</td>\n",
              "      <td>1</td>\n",
              "    </tr>\n",
              "    <tr>\n",
              "      <th>7</th>\n",
              "      <td>3.911300</td>\n",
              "      <td>4.1761</td>\n",
              "      <td>1</td>\n",
              "    </tr>\n",
              "    <tr>\n",
              "      <th>8</th>\n",
              "      <td>2.782200</td>\n",
              "      <td>4.0431</td>\n",
              "      <td>1</td>\n",
              "    </tr>\n",
              "    <tr>\n",
              "      <th>9</th>\n",
              "      <td>2.551800</td>\n",
              "      <td>4.6162</td>\n",
              "      <td>1</td>\n",
              "    </tr>\n",
              "    <tr>\n",
              "      <th>10</th>\n",
              "      <td>3.369800</td>\n",
              "      <td>3.9101</td>\n",
              "      <td>1</td>\n",
              "    </tr>\n",
              "    <tr>\n",
              "      <th>11</th>\n",
              "      <td>3.104800</td>\n",
              "      <td>3.0709</td>\n",
              "      <td>1</td>\n",
              "    </tr>\n",
              "    <tr>\n",
              "      <th>12</th>\n",
              "      <td>1.918200</td>\n",
              "      <td>4.0534</td>\n",
              "      <td>1</td>\n",
              "    </tr>\n",
              "    <tr>\n",
              "      <th>13</th>\n",
              "      <td>2.263800</td>\n",
              "      <td>4.3706</td>\n",
              "      <td>1</td>\n",
              "    </tr>\n",
              "    <tr>\n",
              "      <th>14</th>\n",
              "      <td>2.655500</td>\n",
              "      <td>3.5008</td>\n",
              "      <td>1</td>\n",
              "    </tr>\n",
              "    <tr>\n",
              "      <th>15</th>\n",
              "      <td>3.185500</td>\n",
              "      <td>4.2888</td>\n",
              "      <td>1</td>\n",
              "    </tr>\n",
              "    <tr>\n",
              "      <th>16</th>\n",
              "      <td>3.657900</td>\n",
              "      <td>3.8692</td>\n",
              "      <td>1</td>\n",
              "    </tr>\n",
              "    <tr>\n",
              "      <th>17</th>\n",
              "      <td>3.911300</td>\n",
              "      <td>3.4291</td>\n",
              "      <td>1</td>\n",
              "    </tr>\n",
              "    <tr>\n",
              "      <th>18</th>\n",
              "      <td>3.600200</td>\n",
              "      <td>3.1221</td>\n",
              "      <td>1</td>\n",
              "    </tr>\n",
              "    <tr>\n",
              "      <th>19</th>\n",
              "      <td>3.035700</td>\n",
              "      <td>3.3165</td>\n",
              "      <td>1</td>\n",
              "    </tr>\n",
              "    <tr>\n",
              "      <th>20</th>\n",
              "      <td>1.584100</td>\n",
              "      <td>3.3575</td>\n",
              "      <td>0</td>\n",
              "    </tr>\n",
              "    <tr>\n",
              "      <th>21</th>\n",
              "      <td>2.010300</td>\n",
              "      <td>3.2039</td>\n",
              "      <td>0</td>\n",
              "    </tr>\n",
              "    <tr>\n",
              "      <th>22</th>\n",
              "      <td>1.952700</td>\n",
              "      <td>2.7843</td>\n",
              "      <td>0</td>\n",
              "    </tr>\n",
              "    <tr>\n",
              "      <th>23</th>\n",
              "      <td>2.275300</td>\n",
              "      <td>2.7127</td>\n",
              "      <td>0</td>\n",
              "    </tr>\n",
              "    <tr>\n",
              "      <th>24</th>\n",
              "      <td>2.309900</td>\n",
              "      <td>2.9584</td>\n",
              "      <td>0</td>\n",
              "    </tr>\n",
              "    <tr>\n",
              "      <th>25</th>\n",
              "      <td>2.828300</td>\n",
              "      <td>2.6309</td>\n",
              "      <td>0</td>\n",
              "    </tr>\n",
              "    <tr>\n",
              "      <th>26</th>\n",
              "      <td>3.047300</td>\n",
              "      <td>2.2931</td>\n",
              "      <td>0</td>\n",
              "    </tr>\n",
              "    <tr>\n",
              "      <th>27</th>\n",
              "      <td>2.482700</td>\n",
              "      <td>2.0373</td>\n",
              "      <td>0</td>\n",
              "    </tr>\n",
              "    <tr>\n",
              "      <th>28</th>\n",
              "      <td>2.505700</td>\n",
              "      <td>2.3853</td>\n",
              "      <td>0</td>\n",
              "    </tr>\n",
              "    <tr>\n",
              "      <th>29</th>\n",
              "      <td>1.872100</td>\n",
              "      <td>2.0577</td>\n",
              "      <td>0</td>\n",
              "    </tr>\n",
              "    <tr>\n",
              "      <th>30</th>\n",
              "      <td>2.010300</td>\n",
              "      <td>2.3546</td>\n",
              "      <td>0</td>\n",
              "    </tr>\n",
              "    <tr>\n",
              "      <th>31</th>\n",
              "      <td>1.226900</td>\n",
              "      <td>2.3239</td>\n",
              "      <td>0</td>\n",
              "    </tr>\n",
              "    <tr>\n",
              "      <th>32</th>\n",
              "      <td>1.895100</td>\n",
              "      <td>2.9174</td>\n",
              "      <td>0</td>\n",
              "    </tr>\n",
              "    <tr>\n",
              "      <th>33</th>\n",
              "      <td>1.561000</td>\n",
              "      <td>3.0709</td>\n",
              "      <td>0</td>\n",
              "    </tr>\n",
              "    <tr>\n",
              "      <th>34</th>\n",
              "      <td>1.549500</td>\n",
              "      <td>2.6923</td>\n",
              "      <td>0</td>\n",
              "    </tr>\n",
              "    <tr>\n",
              "      <th>35</th>\n",
              "      <td>1.687800</td>\n",
              "      <td>2.4057</td>\n",
              "      <td>0</td>\n",
              "    </tr>\n",
              "    <tr>\n",
              "      <th>36</th>\n",
              "      <td>1.491900</td>\n",
              "      <td>2.0271</td>\n",
              "      <td>0</td>\n",
              "    </tr>\n",
              "    <tr>\n",
              "      <th>37</th>\n",
              "      <td>0.962000</td>\n",
              "      <td>2.6820</td>\n",
              "      <td>0</td>\n",
              "    </tr>\n",
              "    <tr>\n",
              "      <th>38</th>\n",
              "      <td>1.169300</td>\n",
              "      <td>2.9276</td>\n",
              "      <td>0</td>\n",
              "    </tr>\n",
              "    <tr>\n",
              "      <th>39</th>\n",
              "      <td>0.812200</td>\n",
              "      <td>2.9992</td>\n",
              "      <td>0</td>\n",
              "    </tr>\n",
              "    <tr>\n",
              "      <th>40</th>\n",
              "      <td>0.973500</td>\n",
              "      <td>3.3881</td>\n",
              "      <td>0</td>\n",
              "    </tr>\n",
              "    <tr>\n",
              "      <th>41</th>\n",
              "      <td>1.250000</td>\n",
              "      <td>3.1937</td>\n",
              "      <td>0</td>\n",
              "    </tr>\n",
              "    <tr>\n",
              "      <th>42</th>\n",
              "      <td>1.319100</td>\n",
              "      <td>3.5109</td>\n",
              "      <td>0</td>\n",
              "    </tr>\n",
              "    <tr>\n",
              "      <th>43</th>\n",
              "      <td>2.229200</td>\n",
              "      <td>2.2010</td>\n",
              "      <td>0</td>\n",
              "    </tr>\n",
              "    <tr>\n",
              "      <th>44</th>\n",
              "      <td>2.448200</td>\n",
              "      <td>2.6411</td>\n",
              "      <td>0</td>\n",
              "    </tr>\n",
              "    <tr>\n",
              "      <th>45</th>\n",
              "      <td>2.793800</td>\n",
              "      <td>1.9656</td>\n",
              "      <td>0</td>\n",
              "    </tr>\n",
              "    <tr>\n",
              "      <th>46</th>\n",
              "      <td>2.091000</td>\n",
              "      <td>1.6177</td>\n",
              "      <td>0</td>\n",
              "    </tr>\n",
              "    <tr>\n",
              "      <th>47</th>\n",
              "      <td>2.540300</td>\n",
              "      <td>2.8867</td>\n",
              "      <td>0</td>\n",
              "    </tr>\n",
              "    <tr>\n",
              "      <th>48</th>\n",
              "      <td>0.904400</td>\n",
              "      <td>3.0198</td>\n",
              "      <td>0</td>\n",
              "    </tr>\n",
              "    <tr>\n",
              "      <th>49</th>\n",
              "      <td>0.766150</td>\n",
              "      <td>2.5899</td>\n",
              "      <td>0</td>\n",
              "    </tr>\n",
              "    <tr>\n",
              "      <th>50</th>\n",
              "      <td>0.086405</td>\n",
              "      <td>4.1045</td>\n",
              "      <td>1</td>\n",
              "    </tr>\n",
              "  </tbody>\n",
              "</table>\n",
              "</div>"
            ],
            "text/plain": [
              "           x       y  label\n",
              "0   1.964300  4.5957      1\n",
              "1   2.275300  3.8589      1\n",
              "2   2.978100  4.5651      1\n",
              "3   2.932000  3.5519      1\n",
              "4   3.577200  2.8560      1\n",
              "5   4.015000  3.1937      1\n",
              "6   3.381400  3.4291      1\n",
              "7   3.911300  4.1761      1\n",
              "8   2.782200  4.0431      1\n",
              "9   2.551800  4.6162      1\n",
              "10  3.369800  3.9101      1\n",
              "11  3.104800  3.0709      1\n",
              "12  1.918200  4.0534      1\n",
              "13  2.263800  4.3706      1\n",
              "14  2.655500  3.5008      1\n",
              "15  3.185500  4.2888      1\n",
              "16  3.657900  3.8692      1\n",
              "17  3.911300  3.4291      1\n",
              "18  3.600200  3.1221      1\n",
              "19  3.035700  3.3165      1\n",
              "20  1.584100  3.3575      0\n",
              "21  2.010300  3.2039      0\n",
              "22  1.952700  2.7843      0\n",
              "23  2.275300  2.7127      0\n",
              "24  2.309900  2.9584      0\n",
              "25  2.828300  2.6309      0\n",
              "26  3.047300  2.2931      0\n",
              "27  2.482700  2.0373      0\n",
              "28  2.505700  2.3853      0\n",
              "29  1.872100  2.0577      0\n",
              "30  2.010300  2.3546      0\n",
              "31  1.226900  2.3239      0\n",
              "32  1.895100  2.9174      0\n",
              "33  1.561000  3.0709      0\n",
              "34  1.549500  2.6923      0\n",
              "35  1.687800  2.4057      0\n",
              "36  1.491900  2.0271      0\n",
              "37  0.962000  2.6820      0\n",
              "38  1.169300  2.9276      0\n",
              "39  0.812200  2.9992      0\n",
              "40  0.973500  3.3881      0\n",
              "41  1.250000  3.1937      0\n",
              "42  1.319100  3.5109      0\n",
              "43  2.229200  2.2010      0\n",
              "44  2.448200  2.6411      0\n",
              "45  2.793800  1.9656      0\n",
              "46  2.091000  1.6177      0\n",
              "47  2.540300  2.8867      0\n",
              "48  0.904400  3.0198      0\n",
              "49  0.766150  2.5899      0\n",
              "50  0.086405  4.1045      1"
            ]
          },
          "metadata": {
            "tags": []
          },
          "execution_count": 49
        }
      ]
    },
    {
      "cell_type": "code",
      "metadata": {
        "id": "4MdxbjDSpM23",
        "colab_type": "code",
        "colab": {
          "base_uri": "https://localhost:8080/",
          "height": 953
        },
        "outputId": "5ca45477-a3bd-41b2-99ed-4b4655ce0cde"
      },
      "source": [
        "data3['label']==0   # 연산자 오버로딩 (자바할때 나오는 개념...)"
      ],
      "execution_count": 51,
      "outputs": [
        {
          "output_type": "execute_result",
          "data": {
            "text/plain": [
              "0     False\n",
              "1     False\n",
              "2     False\n",
              "3     False\n",
              "4     False\n",
              "5     False\n",
              "6     False\n",
              "7     False\n",
              "8     False\n",
              "9     False\n",
              "10    False\n",
              "11    False\n",
              "12    False\n",
              "13    False\n",
              "14    False\n",
              "15    False\n",
              "16    False\n",
              "17    False\n",
              "18    False\n",
              "19    False\n",
              "20     True\n",
              "21     True\n",
              "22     True\n",
              "23     True\n",
              "24     True\n",
              "25     True\n",
              "26     True\n",
              "27     True\n",
              "28     True\n",
              "29     True\n",
              "30     True\n",
              "31     True\n",
              "32     True\n",
              "33     True\n",
              "34     True\n",
              "35     True\n",
              "36     True\n",
              "37     True\n",
              "38     True\n",
              "39     True\n",
              "40     True\n",
              "41     True\n",
              "42     True\n",
              "43     True\n",
              "44     True\n",
              "45     True\n",
              "46     True\n",
              "47     True\n",
              "48     True\n",
              "49     True\n",
              "50    False\n",
              "Name: label, dtype: bool"
            ]
          },
          "metadata": {
            "tags": []
          },
          "execution_count": 51
        }
      ]
    },
    {
      "cell_type": "code",
      "metadata": {
        "id": "8Jrg1RpKoRHE",
        "colab_type": "code",
        "colab": {}
      },
      "source": [
        "# 전체 dataframe에서 label의 값에 따라서 두개의 dataframe으로 나눈다\n",
        "data3_0 = data3[ data3['label']==0 ]\n",
        "data3_1 = data3[ data3['label']==1 ]"
      ],
      "execution_count": 0,
      "outputs": []
    },
    {
      "cell_type": "code",
      "metadata": {
        "id": "G9VYkHsGpATW",
        "colab_type": "code",
        "colab": {}
      },
      "source": [
        "# 각각의 dataframe에서 x, y 열을 numpy array로 바꾼다\n",
        "x_0 = np.asarray(data3_0['x']).reshape((-1, 1))\n",
        "y_0 = np.asarray(data3_0['y']).reshape((-1, 1))\n",
        "\n",
        "x_1 = np.asarray(data3_1['x']).reshape((-1, 1))\n",
        "y_1 = np.asarray(data3_1['y']).reshape((-1, 1))"
      ],
      "execution_count": 0,
      "outputs": []
    },
    {
      "cell_type": "code",
      "metadata": {
        "id": "kKUQbwE-p2Zh",
        "colab_type": "code",
        "colab": {
          "base_uri": "https://localhost:8080/",
          "height": 35
        },
        "outputId": "3d9bbb84-4025-418a-abe0-1302f424b391"
      },
      "source": [
        "x_0.shape"
      ],
      "execution_count": 69,
      "outputs": [
        {
          "output_type": "execute_result",
          "data": {
            "text/plain": [
              "(30, 1)"
            ]
          },
          "metadata": {
            "tags": []
          },
          "execution_count": 69
        }
      ]
    },
    {
      "cell_type": "code",
      "metadata": {
        "id": "IcZDzESzrPA7",
        "colab_type": "code",
        "colab": {
          "base_uri": "https://localhost:8080/",
          "height": 35
        },
        "outputId": "12bd5256-17f5-46f9-df54-dff0648d79b0"
      },
      "source": [
        "x_1.shape"
      ],
      "execution_count": 70,
      "outputs": [
        {
          "output_type": "execute_result",
          "data": {
            "text/plain": [
              "(21, 1)"
            ]
          },
          "metadata": {
            "tags": []
          },
          "execution_count": 70
        }
      ]
    },
    {
      "cell_type": "code",
      "metadata": {
        "id": "GDrRN9ZerXIA",
        "colab_type": "code",
        "colab": {
          "base_uri": "https://localhost:8080/",
          "height": 295
        },
        "outputId": "9b7236cd-b99a-4987-c843-66d320323587"
      },
      "source": [
        "# plt.plot으로 그래프 그리기!\n",
        "# 0 : 빨간색 동그라미\n",
        "# 1 : 파란색 x표\n",
        "# 제목 : Plot of data_lab3.txt\n",
        "# 축제목 : x y\n",
        "# 범례 : 0 1 \n",
        "\n",
        "plt.plot(x_0, y_0, 'ro', label='0')\n",
        "plt.plot(x_1, y_1, 'bx', label='1')\n",
        "\n",
        "plt.title('Plot of data_lab3.txt')\n",
        "\n",
        "plt.xlabel('x')\n",
        "plt.ylabel('y')\n",
        "\n",
        "plt.legend(loc='lower left')\n",
        "\n",
        "plt.show()"
      ],
      "execution_count": 78,
      "outputs": [
        {
          "output_type": "display_data",
          "data": {
            "image/png": "[encoded data removed]",
            "text/plain": [
              "<Figure size 432x288 with 1 Axes>"
            ]
          },
          "metadata": {
            "tags": [],
            "needs_background": "light"
          }
        }
      ]
    }
  ]
}